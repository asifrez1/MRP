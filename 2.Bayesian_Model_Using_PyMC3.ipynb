{
 "cells": [
  {
   "cell_type": "code",
   "execution_count": 1,
   "metadata": {},
   "outputs": [
    {
     "name": "stderr",
     "output_type": "stream",
     "text": [
      "WARNING (theano.tensor.blas): Using NumPy C-API based implementation for BLAS functions.\n"
     ]
    }
   ],
   "source": [
    "import pandas as pd\n",
    "%matplotlib inline\n",
    "import numpy as np\n",
    "import matplotlib.pyplot as plt\n",
    "from mpl_toolkits.basemap import Basemap\n",
    "import missingno as msno\n",
    "import seaborn as sns\n",
    "import pymc3 as pm\n",
    "from statistics import mean, stdev"
   ]
  },
  {
   "cell_type": "code",
   "execution_count": 2,
   "metadata": {},
   "outputs": [
    {
     "name": "stderr",
     "output_type": "stream",
     "text": [
      "C:\\Users\\Asif Rezwan\\Anaconda3\\lib\\site-packages\\IPython\\core\\interactiveshell.py:3057: DtypeWarning: Columns (11,13,15,23,29,31,33,35) have mixed types. Specify dtype option on import or set low_memory=False.\n",
      "  interactivity=interactivity, compiler=compiler, result=result)\n"
     ]
    }
   ],
   "source": [
    "# Reading CSV data with Missing Values\n",
    "\n",
    "df = pd.read_csv('climate-daily.csv')\n",
    "df = df[['LOCAL_DATE', 'x', 'y', 'STATION_NAME', 'TOTAL_RAIN', 'TOTAL_PRECIPITATION', \n",
    "                     'TOTAL_SNOW', 'MEAN_TEMPERATURE', 'COOLING_DEGREE_DAYS', 'HEATING_DEGREE_DAYS']]\n",
    "#df.isna().sum()"
   ]
  },
  {
   "cell_type": "code",
   "execution_count": 3,
   "metadata": {},
   "outputs": [],
   "source": [
    "# Converting 'LOCAL_TIME' to datetime\n",
    "df['LOCAL_DATE'] = pd.to_datetime(df['LOCAL_DATE'])\n",
    "\n",
    "# Setting 'LOCAL_DATE' as the index \n",
    "df.set_index('LOCAL_DATE', inplace=True)\n",
    "\n",
    "# getting rid of missing values in rainfall data\n",
    "df_rain = df['TOTAL_RAIN'].dropna()\n",
    "\n",
    "# getting rid of missing values in snowfall data mostly from the initial years and then filling in the rest with 0\n",
    "df_snow = df['TOTAL_SNOW']['1849':'2017'].fillna(0)\n",
    "\n",
    "#df_rain.count()\n",
    "#df_snow.count()"
   ]
  },
  {
   "cell_type": "code",
   "execution_count": 4,
   "metadata": {},
   "outputs": [],
   "source": [
    "def spell_length(data, threshold):\n",
    "    \n",
    "\n",
    "    #threshold   threshold below and above which dates are counted\n",
    "    #spell_list   array that stores the lengths of sequences\n",
    "    #                       spell_list[0] for dry days\n",
    "    #                       spell_list[1] for wet days\n",
    "    \n",
    "\n",
    "    # total number days\n",
    "    no_of_days = data[~ data.isnull()].count()\n",
    "    # number lt threshold\n",
    "    days_lt_threshold = data[data <= threshold].count()\n",
    "\n",
    "    # type_day = 0   # dry\n",
    "    # type_day = 1   # wet\n",
    "\n",
    "    # initialising\n",
    "    type_prev_day = 0\n",
    "    spell_list = [[],[]]\n",
    "    spell_size = 0\n",
    "\n",
    "    for today in data[~ data.isnull()]:\n",
    "        # current day is dry\n",
    "        if today <= threshold:\n",
    "            type_cur_day = 0\n",
    "            if type_cur_day == type_prev_day:\n",
    "                spell_size += 1\n",
    "            else:\n",
    "                if spell_size > 0:\n",
    "                    spell_list[1].append(spell_size)\n",
    "                spell_size = 1\n",
    "            type_prev_day = type_cur_day\n",
    "        else:\n",
    "            type_cur_day = 1\n",
    "            if type_cur_day == type_prev_day:\n",
    "                spell_size += 1\n",
    "            else:\n",
    "                if spell_size > 0:\n",
    "                    spell_list[0].append(spell_size)\n",
    "                spell_size = 1\n",
    "            type_prev_day = type_cur_day\n",
    "\n",
    "    return spell_list"
   ]
  },
  {
   "cell_type": "code",
   "execution_count": 5,
   "metadata": {
    "scrolled": true
   },
   "outputs": [],
   "source": [
    "# spell_length(df_rain['1905'], 0)[1]\n",
    "# spell_length(df_snow['1905'], 0)[1]"
   ]
  },
  {
   "cell_type": "markdown",
   "metadata": {},
   "source": [
    "## pymc model"
   ]
  },
  {
   "cell_type": "markdown",
   "metadata": {},
   "source": [
    "#### Sample Rainfall Analysis"
   ]
  },
  {
   "cell_type": "code",
   "execution_count": 6,
   "metadata": {},
   "outputs": [
    {
     "name": "stderr",
     "output_type": "stream",
     "text": [
      "Auto-assigning NUTS sampler...\n",
      "Initializing NUTS using jitter+adapt_diag...\n",
      "Multiprocess sampling (4 chains in 4 jobs)\n",
      "NUTS: [p]\n"
     ]
    },
    {
     "data": {
      "text/html": [
       "\n",
       "    <div>\n",
       "        <style>\n",
       "            /* Turns off some styling */\n",
       "            progress {\n",
       "                /* gets rid of default border in Firefox and Opera. */\n",
       "                border: none;\n",
       "                /* Needs to be in here for Safari polyfill so background images work as expected. */\n",
       "                background-size: auto;\n",
       "            }\n",
       "            .progress-bar-interrupted, .progress-bar-interrupted::-webkit-progress-bar {\n",
       "                background: #F44336;\n",
       "            }\n",
       "        </style>\n",
       "      <progress value='6000' class='' max='6000' style='width:300px; height:20px; vertical-align: middle;'></progress>\n",
       "      100.00% [6000/6000 00:06<00:00 Sampling 4 chains, 0 divergences]\n",
       "    </div>\n",
       "    "
      ],
      "text/plain": [
       "<IPython.core.display.HTML object>"
      ]
     },
     "metadata": {},
     "output_type": "display_data"
    },
    {
     "name": "stderr",
     "output_type": "stream",
     "text": [
      "Sampling 4 chains for 1_000 tune and 500 draw iterations (4_000 + 2_000 draws total) took 19 seconds.\n",
      "C:\\Users\\Asif Rezwan\\Anaconda3\\lib\\site-packages\\arviz\\data\\io_pymc3.py:89: FutureWarning: Using `from_pymc3` without the model will be deprecated in a future release. Not using the model will return less accurate and less useful results. Make sure you use the model argument or call from_pymc3 within a model context.\n",
      "  FutureWarning,\n",
      "C:\\Users\\Asif Rezwan\\Anaconda3\\lib\\site-packages\\arviz\\data\\io_pymc3.py:89: FutureWarning: Using `from_pymc3` without the model will be deprecated in a future release. Not using the model will return less accurate and less useful results. Make sure you use the model argument or call from_pymc3 within a model context.\n",
      "  FutureWarning,\n"
     ]
    },
    {
     "data": {
      "text/html": [
       "<div>\n",
       "<style scoped>\n",
       "    .dataframe tbody tr th:only-of-type {\n",
       "        vertical-align: middle;\n",
       "    }\n",
       "\n",
       "    .dataframe tbody tr th {\n",
       "        vertical-align: top;\n",
       "    }\n",
       "\n",
       "    .dataframe thead th {\n",
       "        text-align: right;\n",
       "    }\n",
       "</style>\n",
       "<table border=\"1\" class=\"dataframe\">\n",
       "  <thead>\n",
       "    <tr style=\"text-align: right;\">\n",
       "      <th></th>\n",
       "      <th>mean</th>\n",
       "      <th>sd</th>\n",
       "      <th>hdi_3%</th>\n",
       "      <th>hdi_97%</th>\n",
       "      <th>mcse_mean</th>\n",
       "      <th>mcse_sd</th>\n",
       "      <th>ess_mean</th>\n",
       "      <th>ess_sd</th>\n",
       "      <th>ess_bulk</th>\n",
       "      <th>ess_tail</th>\n",
       "      <th>r_hat</th>\n",
       "    </tr>\n",
       "  </thead>\n",
       "  <tbody>\n",
       "    <tr>\n",
       "      <th>p</th>\n",
       "      <td>0.394</td>\n",
       "      <td>0.048</td>\n",
       "      <td>0.292</td>\n",
       "      <td>0.475</td>\n",
       "      <td>0.002</td>\n",
       "      <td>0.001</td>\n",
       "      <td>1003.0</td>\n",
       "      <td>1003.0</td>\n",
       "      <td>1008.0</td>\n",
       "      <td>1155.0</td>\n",
       "      <td>1.01</td>\n",
       "    </tr>\n",
       "  </tbody>\n",
       "</table>\n",
       "</div>"
      ],
      "text/plain": [
       "    mean     sd  hdi_3%  hdi_97%  mcse_mean  mcse_sd  ess_mean  ess_sd  \\\n",
       "p  0.394  0.048   0.292    0.475      0.002    0.001    1003.0  1003.0   \n",
       "\n",
       "   ess_bulk  ess_tail  r_hat  \n",
       "p    1008.0    1155.0   1.01  "
      ]
     },
     "execution_count": 6,
     "metadata": {},
     "output_type": "execute_result"
    },
    {
     "data": {
      "image/png": "[encoded data removed]",
      "text/plain": [
       "<Figure size 432x288 with 1 Axes>"
      ]
     },
     "metadata": {
      "needs_background": "light"
     },
     "output_type": "display_data"
    }
   ],
   "source": [
    "Y = spell_length(df_rain['1905'], 0)[1]\n",
    "\n",
    "basic_model = pm.Model()\n",
    "\n",
    "with basic_model:\n",
    "\n",
    "    # Priors for unknown model parameters\n",
    "    p = pm.Beta('p', alpha=1, beta=1)\n",
    "\n",
    "    # Likelihood (sampling distribution) of observations\n",
    "    Y_obs = pm.Geometric('Y_obs', p=1-p, observed=Y)\n",
    "    \n",
    "    # draw 500 posterior samples\n",
    "    trace = pm.sample(500)\n",
    "\n",
    "#pm.traceplot(trace);\n",
    "pm.plot_posterior(trace);\n",
    "\n",
    "pm.summary(trace)"
   ]
  },
  {
   "cell_type": "markdown",
   "metadata": {},
   "source": [
    "#### Sample Snowfall Analysis"
   ]
  },
  {
   "cell_type": "code",
   "execution_count": 7,
   "metadata": {},
   "outputs": [
    {
     "name": "stderr",
     "output_type": "stream",
     "text": [
      "Auto-assigning NUTS sampler...\n",
      "Initializing NUTS using jitter+adapt_diag...\n",
      "Multiprocess sampling (4 chains in 4 jobs)\n",
      "NUTS: [p]\n"
     ]
    },
    {
     "data": {
      "text/html": [
       "\n",
       "    <div>\n",
       "        <style>\n",
       "            /* Turns off some styling */\n",
       "            progress {\n",
       "                /* gets rid of default border in Firefox and Opera. */\n",
       "                border: none;\n",
       "                /* Needs to be in here for Safari polyfill so background images work as expected. */\n",
       "                background-size: auto;\n",
       "            }\n",
       "            .progress-bar-interrupted, .progress-bar-interrupted::-webkit-progress-bar {\n",
       "                background: #F44336;\n",
       "            }\n",
       "        </style>\n",
       "      <progress value='6000' class='' max='6000' style='width:300px; height:20px; vertical-align: middle;'></progress>\n",
       "      100.00% [6000/6000 00:07<00:00 Sampling 4 chains, 0 divergences]\n",
       "    </div>\n",
       "    "
      ],
      "text/plain": [
       "<IPython.core.display.HTML object>"
      ]
     },
     "metadata": {},
     "output_type": "display_data"
    },
    {
     "name": "stderr",
     "output_type": "stream",
     "text": [
      "Sampling 4 chains for 1_000 tune and 500 draw iterations (4_000 + 2_000 draws total) took 19 seconds.\n",
      "C:\\Users\\Asif Rezwan\\Anaconda3\\lib\\site-packages\\arviz\\data\\io_pymc3.py:89: FutureWarning: Using `from_pymc3` without the model will be deprecated in a future release. Not using the model will return less accurate and less useful results. Make sure you use the model argument or call from_pymc3 within a model context.\n",
      "  FutureWarning,\n",
      "C:\\Users\\Asif Rezwan\\Anaconda3\\lib\\site-packages\\arviz\\data\\io_pymc3.py:89: FutureWarning: Using `from_pymc3` without the model will be deprecated in a future release. Not using the model will return less accurate and less useful results. Make sure you use the model argument or call from_pymc3 within a model context.\n",
      "  FutureWarning,\n"
     ]
    },
    {
     "data": {
      "text/html": [
       "<div>\n",
       "<style scoped>\n",
       "    .dataframe tbody tr th:only-of-type {\n",
       "        vertical-align: middle;\n",
       "    }\n",
       "\n",
       "    .dataframe tbody tr th {\n",
       "        vertical-align: top;\n",
       "    }\n",
       "\n",
       "    .dataframe thead th {\n",
       "        text-align: right;\n",
       "    }\n",
       "</style>\n",
       "<table border=\"1\" class=\"dataframe\">\n",
       "  <thead>\n",
       "    <tr style=\"text-align: right;\">\n",
       "      <th></th>\n",
       "      <th>mean</th>\n",
       "      <th>sd</th>\n",
       "      <th>hdi_3%</th>\n",
       "      <th>hdi_97%</th>\n",
       "      <th>mcse_mean</th>\n",
       "      <th>mcse_sd</th>\n",
       "      <th>ess_mean</th>\n",
       "      <th>ess_sd</th>\n",
       "      <th>ess_bulk</th>\n",
       "      <th>ess_tail</th>\n",
       "      <th>r_hat</th>\n",
       "    </tr>\n",
       "  </thead>\n",
       "  <tbody>\n",
       "    <tr>\n",
       "      <th>p</th>\n",
       "      <td>0.353</td>\n",
       "      <td>0.067</td>\n",
       "      <td>0.232</td>\n",
       "      <td>0.484</td>\n",
       "      <td>0.002</td>\n",
       "      <td>0.002</td>\n",
       "      <td>879.0</td>\n",
       "      <td>879.0</td>\n",
       "      <td>874.0</td>\n",
       "      <td>1343.0</td>\n",
       "      <td>1.01</td>\n",
       "    </tr>\n",
       "  </tbody>\n",
       "</table>\n",
       "</div>"
      ],
      "text/plain": [
       "    mean     sd  hdi_3%  hdi_97%  mcse_mean  mcse_sd  ess_mean  ess_sd  \\\n",
       "p  0.353  0.067   0.232    0.484      0.002    0.002     879.0   879.0   \n",
       "\n",
       "   ess_bulk  ess_tail  r_hat  \n",
       "p     874.0    1343.0   1.01  "
      ]
     },
     "execution_count": 7,
     "metadata": {},
     "output_type": "execute_result"
    },
    {
     "data": {
      "image/png": "[encoded data removed]",
      "text/plain": [
       "<Figure size 432x288 with 1 Axes>"
      ]
     },
     "metadata": {
      "needs_background": "light"
     },
     "output_type": "display_data"
    }
   ],
   "source": [
    "Y = spell_length(df_snow['1905'], 0)[1]\n",
    "\n",
    "basic_model = pm.Model()\n",
    "\n",
    "with basic_model:\n",
    "\n",
    "    # Priors for unknown model parameters\n",
    "    p = pm.Beta('p', alpha=1, beta=1)\n",
    "\n",
    "    # Likelihood (sampling distribution) of observations\n",
    "    Y_obs = pm.Geometric('Y_obs', p=1-p, observed=Y)\n",
    "    \n",
    "    # draw 500 posterior samples\n",
    "    trace = pm.sample(500)\n",
    "\n",
    "#pm.traceplot(trace);\n",
    "pm.plot_posterior(trace);\n",
    "\n",
    "pm.summary(trace)"
   ]
  },
  {
   "cell_type": "code",
   "execution_count": null,
   "metadata": {},
   "outputs": [],
   "source": []
  }
 ],
 "metadata": {
  "kernelspec": {
   "display_name": "Python 3",
   "language": "python",
   "name": "python3"
  },
  "language_info": {
   "codemirror_mode": {
    "name": "ipython",
    "version": 3
   },
   "file_extension": ".py",
   "mimetype": "text/x-python",
   "name": "python",
   "nbconvert_exporter": "python",
   "pygments_lexer": "ipython3",
   "version": "3.7.3"
  }
 },
 "nbformat": 4,
 "nbformat_minor": 2
}
